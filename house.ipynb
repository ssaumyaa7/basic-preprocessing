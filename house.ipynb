#jupyter-houseprices dataset
import statsmodels.api as sn
import numpy as np
import pandas as pd
import seaborn as sns
df=pd.read_csv('House_price.csv',header=0)
df.head()
df.shape
df.describe()
sns.jointplot(x='n_hot_rooms', y='price', data=df)
sns.jointplot(x="rainfall",y='price',data=df)
df.head()
sns.countplot(x="airport",data=df)
sns.countplot(x='waterbody',data=df)
sns.countplot(x='bus_ter',data=df)
df.info()
np.percentile(df.n_hot_rooms,[99])
np.percentile(df.n_hot_rooms,[99])[0]
uv=np.percentile(df.n_hot_rooms,[99])[0]
df[(df.n_hot_rooms>uv)]
df.n_hot_rooms[(df.n_hot_rooms > 3*uv)] = 3*uv
np.percentile(df.rainfall,[1])[0]
lv=np.percentile(df.rainfall,[1])[0]
df[(df.rainfall < lv)]
df.rainfall[(df.rainfall < 0.3*lv)] = 0.3*lv
sns.jointplot(x="crime_rate", y="price",data=df)
df.describe()
df.info()
df.n_hos_beds = df.n_hos_beds.fillna(df.n_hos_beds.mean)
df.info()
sns.jointplot(x="crime_rate", y="price", data=df) 
df.crime_rate = np.log(1+df.crime_rate)
sns.jointplot(x="crime_rate", y="price", data=df) 
df['avg_dist'] = (df.dist1+df.dist2+df.dist3+df.dist4)/4
df.describe()
del df['dist1']
del df['dist2']
del df['dist3']
del df['dist4']
df.describe()
del df['bus_ter']
df.head()
df = pd.get_dummies(df, columns=['waterbody'])
df = pd.get_dummies(df, columns=['airport'])
df.head()
df.info()
#delete redundant variable
del df['airport_NO']
del df['waterbody_None']
df.head()
df.corr()
del df['parks']  #study multi collinearity\
X = sn.add_constant(df['room_num'])
lm = sn.OLS(df['price'], X).fit()
lm.summary()

